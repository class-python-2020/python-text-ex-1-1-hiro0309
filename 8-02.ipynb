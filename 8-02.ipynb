{
 "metadata": {
  "language_info": {
   "codemirror_mode": {
    "name": "ipython",
    "version": 3
   },
   "file_extension": ".py",
   "mimetype": "text/x-python",
   "name": "python",
   "nbconvert_exporter": "python",
   "pygments_lexer": "ipython3",
   "version": 3
  },
  "orig_nbformat": 2,
  "kernelspec": {
   "name": "python_defaultSpec_1597197609647",
   "display_name": "Python 3.8.2 32-bit"
  }
 },
 "nbformat": 4,
 "nbformat_minor": 2,
 "cells": [
  {
   "cell_type": "code",
   "execution_count": 1,
   "metadata": {},
   "outputs": [],
   "source": [
    "import pathlib\n",
    "p = pathlib.Path('.')"
   ]
  },
  {
   "cell_type": "code",
   "execution_count": 2,
   "metadata": {},
   "outputs": [],
   "source": [
    "import pathlib\n",
    "file = pathlib.Path('sample.txt')"
   ]
  },
  {
   "cell_type": "code",
   "execution_count": 3,
   "metadata": {},
   "outputs": [
    {
     "output_type": "execute_result",
     "data": {
      "text/plain": "WindowsPath('C:/Users/uehara/Documents/GitHub/python-text-ex-1-1-hiro0309')"
     },
     "metadata": {},
     "execution_count": 3
    }
   ],
   "source": [
    "p.resolve()"
   ]
  },
  {
   "cell_type": "code",
   "execution_count": 4,
   "metadata": {},
   "outputs": [],
   "source": [
    "import pathlib\n",
    "q = pathlib.Path('sample.txt')\n",
    "qs = str(q)"
   ]
  },
  {
   "cell_type": "code",
   "execution_count": 12,
   "metadata": {
    "tags": []
   },
   "outputs": [
    {
     "output_type": "stream",
     "name": "stdout",
     "text": ".git\n2-03_uehara.ipynb\n2-04_uehara.ipynb\n2-05_uehara.ipynb\n2-06_uehara.ipynb\n2-07_uehara.ipynb\n2-08_uehara.ipynb\n2-09.ipynb\n2-10.ipynb\n2-11.ipynb\n2-12.ipynb\n2-13.ipynb\n3-01.ipynb\n3-02.ipynb\n3-03.ipynb\n3-04.ipynb\n3-05.ipynb\n3-06.ipynb\n3-07.ipynb\n3-08.ipynb\n4-01.ipynb\n4-02.ipynb\n4-03.ipynb\n4-04.ipynb\n4-05.ipynb\n4-06.ipynb\n4-07.ipynb\n4-08.ipynb\n4-09.ipynb\n5-01.ipynb\n5-02.ipynb\n5-03.ipynb\n5-04.ipynb\n5-05.ipynb\n5-06.ipynb\n5-07.ipynb\n5-08.ipynb\n5-09.ipynb\n5-10.ipynb\n6-01.ipynb\n6-02.ipynb\n6-03.ipynb\n6-04.ipynb\n6-05.ipynb\n6-06.ipynb\n7-01.ipynb\n7-02.ipynb\n7-03.ipynb\n7-04.ipynb\n8-01.ipynb\n8-02.ipynb\nmy_math.py\nmy_math2.py\nmy_module.py\nmy_module1.py\nmy_module2.py\nmy_module_2-12.py\nmy_package\nnumbers.txt\nout_test.txt\nREADME.md\nsample.pkl\nsample.txt\ntest.dat\ntest.txt\ntest1.pkl\n__pycache__\n"
    }
   ],
   "source": [
    "import pathlib\n",
    "p = pathlib.Path('.')\n",
    "for fd in p.iterdir():\n",
    "    print(fd)"
   ]
  },
  {
   "cell_type": "code",
   "execution_count": 15,
   "metadata": {
    "tags": []
   },
   "outputs": [
    {
     "output_type": "stream",
     "name": "stdout",
     "text": "[WindowsPath('my_math.py'), WindowsPath('my_math2.py'), WindowsPath('my_module.py'), WindowsPath('my_module1.py'), WindowsPath('my_module2.py'), WindowsPath('my_module_2-12.py')]\n"
    }
   ],
   "source": [
    "import pathlib\n",
    "p = pathlib.Path('.')\n",
    "print(list(p.glob('*.py')))"
   ]
  },
  {
   "cell_type": "code",
   "execution_count": 16,
   "metadata": {
    "tags": []
   },
   "outputs": [
    {
     "output_type": "stream",
     "name": "stdout",
     "text": "False\n"
    }
   ],
   "source": [
    "import pathlib\n",
    "file = pathlib.Path('aaa/bbb.txt')\n",
    "print(file.exists())"
   ]
  },
  {
   "cell_type": "code",
   "execution_count": 17,
   "metadata": {
    "tags": []
   },
   "outputs": [
    {
     "output_type": "stream",
     "name": "stdout",
     "text": "False\n"
    }
   ],
   "source": [
    "import pathlib\n",
    "p = pathlib.Path('aaa/bbb.txt')\n",
    "print(p.is_file())"
   ]
  },
  {
   "cell_type": "code",
   "execution_count": 18,
   "metadata": {
    "tags": []
   },
   "outputs": [
    {
     "output_type": "stream",
     "name": "stdout",
     "text": "False\n"
    }
   ],
   "source": [
    "import pathlib\n",
    "p = pathlib.Path('aaa/bbb.txt')\n",
    "print(p.is_dir())"
   ]
  },
  {
   "cell_type": "code",
   "execution_count": 19,
   "metadata": {
    "tags": []
   },
   "outputs": [
    {
     "output_type": "stream",
     "name": "stdout",
     "text": "\\aaa\\test.txt\n"
    }
   ],
   "source": [
    "import pathlib\n",
    "root = pathlib.Path('/')\n",
    "pp = root / 'aaa' / 'test.txt'  #演算子「/」によるパスの連結\n",
    "print(pp)"
   ]
  },
  {
   "cell_type": "code",
   "execution_count": 20,
   "metadata": {
    "tags": []
   },
   "outputs": [
    {
     "output_type": "stream",
     "name": "stdout",
     "text": "\\aaa\\test.txt\n"
    }
   ],
   "source": [
    "import pathlib\n",
    "p = pathlib.Path('/')\n",
    "pp2 = p.joinpath('aaa', 'test.txt')\n",
    "print(pp2)"
   ]
  },
  {
   "cell_type": "code",
   "execution_count": 21,
   "metadata": {
    "tags": []
   },
   "outputs": [
    {
     "output_type": "stream",
     "name": "stdout",
     "text": "..\n"
    }
   ],
   "source": [
    "import pathlib\n",
    "p = pathlib.Path('.')\n",
    "pp = p.joinpath('..')\n",
    "print(pp)"
   ]
  },
  {
   "cell_type": "code",
   "execution_count": 22,
   "metadata": {
    "tags": []
   },
   "outputs": [
    {
     "output_type": "stream",
     "name": "stdout",
     "text": "2-03_uehara.ipynb\n2-04_uehara.ipynb\n2-05_uehara.ipynb\n2-06_uehara.ipynb\n2-07_uehara.ipynb\n2-08_uehara.ipynb\n2-09.ipynb\n2-10.ipynb\n2-11.ipynb\n2-12.ipynb\n2-13.ipynb\n3-01.ipynb\n3-02.ipynb\n3-03.ipynb\n3-04.ipynb\n3-05.ipynb\n3-06.ipynb\n3-07.ipynb\n3-08.ipynb\n4-01.ipynb\n4-02.ipynb\n4-03.ipynb\n4-04.ipynb\n4-05.ipynb\n4-06.ipynb\n4-07.ipynb\n4-08.ipynb\n4-09.ipynb\n5-01.ipynb\n5-02.ipynb\n5-03.ipynb\n5-04.ipynb\n5-05.ipynb\n5-06.ipynb\n5-07.ipynb\n5-08.ipynb\n5-09.ipynb\n5-10.ipynb\n6-01.ipynb\n6-02.ipynb\n6-03.ipynb\n6-04.ipynb\n6-05.ipynb\n6-06.ipynb\n7-01.ipynb\n7-02.ipynb\n7-03.ipynb\n7-04.ipynb\n8-01.ipynb\n8-02.ipynb\nmy_math.py\nmy_math2.py\nmy_module.py\nmy_module1.py\nmy_module2.py\nmy_module_2-12.py\nnumbers.txt\nout_test.txt\nREADME.md\nsample.pkl\nsample.txt\ntest.dat\ntest.txt\ntest1.pkl\n"
    }
   ],
   "source": [
    "import pathlib\n",
    "p = pathlib.Path('.')\n",
    "for pf in p.iterdir():\n",
    "    if pf.is_file():\n",
    "        print(str(pf))"
   ]
  },
  {
   "cell_type": "code",
   "execution_count": 23,
   "metadata": {},
   "outputs": [],
   "source": [
    "import pathlib\n",
    "p = pathlib.Path('.')\n",
    "for pf in p.glob('a*'):\n",
    "    if pf.is_dir():\n",
    "        print(pf)"
   ]
  }
 ]
}
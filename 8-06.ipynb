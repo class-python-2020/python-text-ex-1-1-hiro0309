{
 "metadata": {
  "language_info": {
   "codemirror_mode": {
    "name": "ipython",
    "version": 3
   },
   "file_extension": ".py",
   "mimetype": "text/x-python",
   "name": "python",
   "nbconvert_exporter": "python",
   "pygments_lexer": "ipython3",
   "version": "3.8.2-final"
  },
  "orig_nbformat": 2,
  "kernelspec": {
   "name": "python_defaultSpec_1597311789353",
   "display_name": "Python 3.8.2 32-bit"
  }
 },
 "nbformat": 4,
 "nbformat_minor": 2,
 "cells": [
  {
   "cell_type": "code",
   "execution_count": 3,
   "metadata": {},
   "outputs": [
    {
     "output_type": "execute_result",
     "data": {
      "text/plain": "datetime.date(2020, 8, 13)"
     },
     "metadata": {},
     "execution_count": 3
    }
   ],
   "source": [
    "from datetime import date\n",
    "day_now = date.today()\n",
    "day_now"
   ]
  },
  {
   "cell_type": "code",
   "execution_count": 4,
   "metadata": {},
   "outputs": [
    {
     "output_type": "execute_result",
     "data": {
      "text/plain": "datetime.timedelta(days=7097)"
     },
     "metadata": {},
     "execution_count": 4
    }
   ],
   "source": [
    "xday = date(2001, 3, 9)\n",
    "td = day_now - xday\n",
    "td"
   ]
  },
  {
   "cell_type": "code",
   "execution_count": 5,
   "metadata": {
    "tags": []
   },
   "outputs": [
    {
     "output_type": "stream",
     "name": "stdout",
     "text": "2020-08-13 18:43:44.000010\n2020\n8\n13\n18\n43\n44\n10\n"
    }
   ],
   "source": [
    "from datetime import datetime\n",
    "now = datetime.today()\n",
    "print(now)              # 現在年月日時分秒マイクロ秒\n",
    "print(now.year)         # 現在年\n",
    "print(now.month)        # 現在月\n",
    "print(now.day)          # 現在日\n",
    "print(now.hour)         # 現在時\n",
    "print(now.minute)       # 現在分\n",
    "print(now.second)      # 現在秒\n",
    "print(now.microsecond)  # 現在マイクロ秒"
   ]
  },
  {
   "cell_type": "code",
   "execution_count": 6,
   "metadata": {},
   "outputs": [
    {
     "output_type": "execute_result",
     "data": {
      "text/plain": "datetime.datetime(2020, 7, 30, 12, 30, 45)"
     },
     "metadata": {},
     "execution_count": 6
    }
   ],
   "source": [
    "datetime(2020, 7, 30, hour=12, minute=30, second=45, microsecond=0)"
   ]
  },
  {
   "cell_type": "code",
   "execution_count": 7,
   "metadata": {},
   "outputs": [
    {
     "output_type": "execute_result",
     "data": {
      "text/plain": "datetime.datetime(2020, 8, 13, 18, 43, 44, 53899)"
     },
     "metadata": {},
     "execution_count": 7
    }
   ],
   "source": [
    "from datetime import datetime\n",
    "dt_now = datetime.now()\n",
    "dt_now"
   ]
  },
  {
   "cell_type": "code",
   "execution_count": 8,
   "metadata": {},
   "outputs": [
    {
     "output_type": "execute_result",
     "data": {
      "text/plain": "datetime.datetime(2020, 8, 13, 9, 43, 44, 75807, tzinfo=datetime.timezone.utc)"
     },
     "metadata": {},
     "execution_count": 8
    }
   ],
   "source": [
    "import datetime\n",
    "dt_now = datetime.datetime.now(datetime.timezone.utc)\n",
    "dt_now"
   ]
  },
  {
   "cell_type": "code",
   "execution_count": 9,
   "metadata": {},
   "outputs": [
    {
     "output_type": "execute_result",
     "data": {
      "text/plain": "datetime.date(2020, 8, 13)"
     },
     "metadata": {},
     "execution_count": 9
    }
   ],
   "source": [
    "dt_now.date()"
   ]
  },
  {
   "cell_type": "code",
   "execution_count": 10,
   "metadata": {},
   "outputs": [
    {
     "output_type": "execute_result",
     "data": {
      "text/plain": "datetime.time(9, 43, 44, 75807)"
     },
     "metadata": {},
     "execution_count": 10
    }
   ],
   "source": [
    "dt_now.time()"
   ]
  },
  {
   "cell_type": "code",
   "execution_count": 20,
   "metadata": {},
   "outputs": [
    {
     "output_type": "execute_result",
     "data": {
      "text/plain": "datetime.datetime(2006, 11, 21, 16, 30)"
     },
     "metadata": {},
     "execution_count": 20
    }
   ],
   "source": [
    "dt = datetime.datetime.strptime(\"21/11/2006 16:30\", \"%d/%m/%Y %H:%M\")\n",
    "dt"
   ]
  },
  {
   "cell_type": "code",
   "execution_count": 21,
   "metadata": {
    "tags": []
   },
   "outputs": [
    {
     "output_type": "execute_result",
     "data": {
      "text/plain": "'2006年11月21日 16時30分'"
     },
     "metadata": {},
     "execution_count": 21
    }
   ],
   "source": [
    "dt.strftime(\"%Y年%m月%d日 %H時%M分\")"
   ]
  },
  {
   "cell_type": "code",
   "execution_count": 22,
   "metadata": {},
   "outputs": [
    {
     "output_type": "execute_result",
     "data": {
      "text/plain": "datetime.datetime(2006, 11, 22, 16, 30)"
     },
     "metadata": {},
     "execution_count": 22
    }
   ],
   "source": [
    "import datetime\n",
    "t_delta = datetime.timedelta(days=1)\n",
    "dt = datetime.datetime.strptime(\"21/11/06 16:30\", \"%d/%m/%y %H:%M\")\n",
    "dt + t_delta"
   ]
  },
  {
   "cell_type": "code",
   "execution_count": 23,
   "metadata": {
    "tags": []
   },
   "outputs": [
    {
     "output_type": "stream",
     "name": "stdout",
     "text": "2018-01-05 12:01:30\n20180101/05/18120130\n"
    }
   ],
   "source": [
    "from datetime import datetime\n",
    "t_str = '20180105120130'\n",
    "dt = datetime.strptime(t_str, \"%Y%m%d%H%M%S\")\n",
    "print(dt)\n",
    "print(dt.strftime(\"%Y%m%D%H%M%S\"))"
   ]
  }
 ]
}